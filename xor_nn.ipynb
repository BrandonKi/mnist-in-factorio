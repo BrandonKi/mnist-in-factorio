{
 "cells": [
  {
   "cell_type": "code",
   "execution_count": 26,
   "metadata": {},
   "outputs": [],
   "source": [
    "import numpy as np"
   ]
  },
  {
   "cell_type": "code",
   "execution_count": null,
   "metadata": {},
   "outputs": [],
   "source": [
    "def relu(x):\n",
    "    return np.maximum(x, 0)\n",
    "\n",
    "def relu_derivative(x):\n",
    "    return np.where(x > 0, 1, 0)\n",
    "\n",
    "def sigmoid(x):\n",
    "    return 1 / (1 + np.exp(-x))\n",
    "\n",
    "def sigmoid_derivative(x):\n",
    "    return x * (1 - x)"
   ]
  },
  {
   "cell_type": "code",
   "execution_count": 28,
   "metadata": {},
   "outputs": [],
   "source": [
    "X = np.array([[0, 0], [0, 1], [1, 0], [1, 1]])\n",
    "y = np.array([[0], [1], [1], [0]])"
   ]
  },
  {
   "cell_type": "code",
   "execution_count": 29,
   "metadata": {},
   "outputs": [],
   "source": [
    "np.random.seed(42)\n",
    "\n",
    "input_layer_size = 2\n",
    "hidden_layer_size = 4\n",
    "output_layer_size = 1\n",
    "learning_rate = 0.1\n",
    "epochs = 10000\n",
    "\n",
    "w1 = np.random.randn(input_layer_size, hidden_layer_size)\n",
    "w2 = np.random.randn(hidden_layer_size, output_layer_size)\n",
    "b1 = np.random.randn(1, hidden_layer_size)\n",
    "b2 = np.random.randn(1, output_layer_size)"
   ]
  },
  {
   "cell_type": "code",
   "execution_count": null,
   "metadata": {},
   "outputs": [
    {
     "name": "stdout",
     "output_type": "stream",
     "text": [
      "Epoch 0, Loss: 0.34314993966841206\n",
      "Epoch 1000, Loss: 0.017226631270719127\n",
      "Epoch 2000, Loss: 0.00358728614425571\n",
      "Epoch 3000, Loss: 0.0018154244198578654\n",
      "Epoch 4000, Loss: 0.0011814146883300197\n",
      "Epoch 5000, Loss: 0.0008644144121870219\n",
      "Epoch 6000, Loss: 0.0006767250459979635\n",
      "Epoch 7000, Loss: 0.0005535920285729638\n",
      "Epoch 8000, Loss: 0.0004668650217739234\n",
      "Epoch 9000, Loss: 0.0004028233772478616\n"
     ]
    }
   ],
   "source": [
    "for epoch in range(epochs):\n",
    "    hidden_layer_input = np.dot(X, w1) + b1\n",
    "    hidden_layer_output = relu(hidden_layer_input)\n",
    "    \n",
    "    output_layer_input = np.dot(hidden_layer_output, w2) + b2\n",
    "    output = sigmoid(output_layer_input)\n",
    "    \n",
    "    output_error = y - output\n",
    "    output_delta = output_error * sigmoid_derivative(output)\n",
    "    \n",
    "    hidden_error = output_delta.dot(w2.T)\n",
    "    hidden_delta = hidden_error * relu_derivative(hidden_layer_output)\n",
    "    \n",
    "    w2 += hidden_layer_output.T.dot(output_delta) * learning_rate\n",
    "    b2 += np.sum(output_delta, axis=0, keepdims=True) * learning_rate\n",
    "    \n",
    "    w1 += X.T.dot(hidden_delta) * learning_rate\n",
    "    b1 += np.sum(hidden_delta, axis=0, keepdims=True) * learning_rate\n",
    "    \n",
    "    if epoch % 1000 == 0:\n",
    "        loss = np.mean(np.square(output_error))\n",
    "        print(f'Epoch {epoch}, Loss: {loss}')"
   ]
  },
  {
   "cell_type": "code",
   "execution_count": null,
   "metadata": {},
   "outputs": [],
   "source": [
    "def test_input(input_data):\n",
    "    print('input_data:', input_data)\n",
    "    print('w1:', w1)\n",
    "    print('b1:', b1)\n",
    "    hidden_layer_input = np.dot(input_data, w1) + b1\n",
    "    print('hidden_layer_input:', hidden_layer_input)\n",
    "    hidden_layer_output = relu(hidden_layer_input)\n",
    "    print('hidden_layer_output:', hidden_layer_output)\n",
    "    \n",
    "    print('w2:', w2)\n",
    "    print('b2:', b2)\n",
    "    output_layer_input = np.dot(hidden_layer_output, w2) + b2\n",
    "    print('output_layer_input:', output_layer_input)\n",
    "    output = (output_layer_input > 0)\n",
    "    print('output:', output)\n",
    "    # output = sigmoid(output_layer_input)\n",
    "    \n",
    "    return output"
   ]
  },
  {
   "cell_type": "code",
   "execution_count": null,
   "metadata": {},
   "outputs": [
    {
     "name": "stdout",
     "output_type": "stream",
     "text": [
      "input_data: [[1 0]]\n",
      "w1: [[ 2.34821193 -0.1382643   2.8750358   1.67298283]\n",
      " [ 2.34822006 -0.23413696  2.87505677  1.67297815]]\n",
      "b1: [[-1.18991116e-04 -1.91328024e+00 -2.87503171e+00 -1.67299902e+00]]\n",
      "hidden_layer_input: [[ 2.34809294e+00 -2.05154455e+00  4.08805594e-06 -1.61916016e-05]]\n",
      "hidden_layer_output: [[2.34809294e+00 0.00000000e+00 4.08805594e-06 0.00000000e+00]]\n",
      "w2: [[ 3.29636826]\n",
      " [ 0.54256004]\n",
      " [-4.36872952]\n",
      " [-2.31995674]]\n",
      "b2: [[-3.48156055]]\n",
      "output_layer_input: [[4.25860061]]\n",
      "output: [[ True]]\n",
      "Output for input [[1 0]]: [[ True]]\n"
     ]
    }
   ],
   "source": [
    "test_data = np.array([[1, 0]])\n",
    "output = test_input(test_data)\n",
    "print(f\"Output for input {test_data}: {output}\")"
   ]
  },
  {
   "cell_type": "code",
   "execution_count": 33,
   "metadata": {},
   "outputs": [
    {
     "name": "stdout",
     "output_type": "stream",
     "text": [
      "w1 [[2348.21192642 -138.26430117 2875.03579964 1672.98283189]\n",
      " [2348.22006149 -234.13695695 2875.05677114 1672.97815421]]\n",
      "b1 [[-1.18991116e-01 -1.91328024e+03 -2.87503171e+03 -1.67299902e+03]]\n",
      "w2 [[ 3296.36825866]\n",
      " [  542.56004359]\n",
      " [-4368.72951991]\n",
      " [-2319.95674011]]\n",
      "b2 [[-3481.56054914]]\n"
     ]
    }
   ],
   "source": [
    "print('w1', w1*1000)\n",
    "print('b1', b1*1000)\n",
    "print('w2', w2*1000)\n",
    "print('b2', b2*1000)"
   ]
  }
 ],
 "metadata": {
  "kernelspec": {
   "display_name": "Python 3",
   "language": "python",
   "name": "python3"
  },
  "language_info": {
   "codemirror_mode": {
    "name": "ipython",
    "version": 3
   },
   "file_extension": ".py",
   "mimetype": "text/x-python",
   "name": "python",
   "nbconvert_exporter": "python",
   "pygments_lexer": "ipython3",
   "version": "3.12.0"
  }
 },
 "nbformat": 4,
 "nbformat_minor": 2
}
